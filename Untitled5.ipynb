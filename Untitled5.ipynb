{
  "nbformat": 4,
  "nbformat_minor": 0,
  "metadata": {
    "colab": {
      "provenance": [],
      "authorship_tag": "ABX9TyMPTTnK04E+xUKAj/QxpKEz",
      "include_colab_link": true
    },
    "kernelspec": {
      "name": "python3",
      "display_name": "Python 3"
    },
    "language_info": {
      "name": "python"
    }
  },
  "cells": [
    {
      "cell_type": "markdown",
      "metadata": {
        "id": "view-in-github",
        "colab_type": "text"
      },
      "source": [
        "<a href=\"https://colab.research.google.com/github/liamcurran7/118394393/blob/master/Untitled5.ipynb\" target=\"_parent\"><img src=\"https://colab.research.google.com/assets/colab-badge.svg\" alt=\"Open In Colab\"/></a>"
      ]
    },
    {
      "cell_type": "code",
      "execution_count": null,
      "metadata": {
        "id": "NbqJXsdSiU94"
      },
      "outputs": [],
      "source": [
        "!pip install scrapy\n",
        "!scrapy startproject pagerank_crawler\n"
      ]
    },
    {
      "cell_type": "code",
      "source": [
        "!cd pagerank_crawler\n"
      ],
      "metadata": {
        "id": "8wS-yXlwjEQJ"
      },
      "execution_count": 6,
      "outputs": []
    },
    {
      "cell_type": "code",
      "source": [
        "!scrapy genspider pagerank_spider www.cs.ucc.ie/~hoare/page1.html\n"
      ],
      "metadata": {
        "id": "OnNexFddjL7j"
      },
      "execution_count": null,
      "outputs": []
    },
    {
      "cell_type": "code",
      "source": [
        "!cd pagerank_crawler\n",
        "\n"
      ],
      "metadata": {
        "id": "qX5sH_81jRYA"
      },
      "execution_count": 9,
      "outputs": []
    }
  ]
}